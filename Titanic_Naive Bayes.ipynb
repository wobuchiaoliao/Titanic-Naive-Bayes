{
 "cells": [
  {
   "cell_type": "code",
   "execution_count": 1,
   "id": "c42469b4",
   "metadata": {},
   "outputs": [],
   "source": [
    "import numpy as np\n",
    "import pandas as pd\n",
    "import csv\n",
    "from pandas import Series,DataFrame"
   ]
  },
  {
   "cell_type": "code",
   "execution_count": 2,
   "id": "354d5cd2",
   "metadata": {},
   "outputs": [],
   "source": [
    "def dateprocessing(data_train,data_test):\n",
    "    y = data_train['Survived'] # 将训练集Survived 数据存储在y中\n",
    "    del data_train['Survived'] # 删除训练集Survived数据\n",
    "    sum_id = data_test['PassengerId'] # 存储测试集乘客ID\n",
    "    df = pd.merge(data_train, data_test,how='outer') # 合并无Survived数据的训练集与测验集，how = ‘outer’ 意为并集\n",
    "    df = df.drop(['Name','Ticket','Cabin','Age','Fare','SibSp','Parch','Embarked','PassengerId'],axis=1)# #删掉无关因素，axis=0 删除行，=1 删除列\n",
    "    dumm = pd.get_dummies(df['Sex']) # '哑变量'矩阵，就是把Sex选项放到列名来，Sex_male和Sex_female，然后他对应的是0是否，1是是\n",
    "    dumm1 = pd.get_dummies(df['Pclass']) # '哑变量'矩阵，与Sex同理\n",
    "    df = df.join(dumm)# 把哑变量矩阵添加上去\n",
    "    df = df.join(dumm1)\n",
    "    del df['Sex'] #删除Sex列\n",
    "    del df['Pclass']#删除Pclass列\n",
    "    data_train = df[:len(data_train)]#第len(data_train)行之前的数据（不含第len(data_train)行）\n",
    "    data_test = df[len(data_train):]#第len(data_train)行及之后的行，注意冒号是必须的\n",
    "    data_train=data_train.join(y)\n",
    "    return data_train,data_test"
   ]
  },
  {
   "cell_type": "code",
   "execution_count": 3,
   "id": "03407182",
   "metadata": {},
   "outputs": [],
   "source": [
    "def NaiveBayes_ParameterCalculate(data_train):\n",
    "    #Sex与Survived的分组\n",
    "    df = data_train.drop(['Name','Ticket','Cabin','Age','Fare','SibSp','Parch','Embarked'],axis=1) # 删除姓名、ID、船票信息、客舱信息，axis=0 删除行，=1 删除列\n",
    "    g = df.groupby(['Sex','Survived']) # 数据分数，里面的那个groupby就是分组命令\n",
    "    df1 = pd.DataFrame(g.count()['PassengerId'])# 引号里面只是那列数值的标题\n",
    "    #Pclass与Survived的分组\n",
    "    g = df.groupby(['Pclass','Survived']) # 数据分数，里面的那个groupby就是分组命令\n",
    "    df2 = pd.DataFrame(g.count()['PassengerId'])# 引号里面只是那列数值的标题\n",
    "    \n",
    "    P_survived=(df1.iloc[1]+df1.iloc[3])/891#计算生存的概率\n",
    "    P_unsurvived=(df1.iloc[0]+df1.iloc[2])/891#计算死亡的概率\n",
    "    P_survived_male=(df1.iloc[3])/(df1.iloc[1]+df1.iloc[3])#计算男性生存的概率\n",
    "    P_survived_female=(df1.iloc[1])/(df1.iloc[1]+df1.iloc[3])#计算女性生存的概率\n",
    "    P_unsurvived_male=(df1.iloc[2])/(df1.iloc[0]+df1.iloc[2])#计算男性死亡的概率\n",
    "    P_unsurvived_female=(df1.iloc[0])/(df1.iloc[0]+df1.iloc[2])#计算女性生存的概率\n",
    "    P_survived_Pclass1=(df2.iloc[1])/(df2.iloc[1]+df2.iloc[3]+df2.iloc[5])#计算Pclass1生存的概率\n",
    "    P_unsurvived_Pclass1=(df2.iloc[0])/(df2.iloc[0]+df2.iloc[2]+df2.iloc[4])#计算Pclass1死亡的概率\n",
    "    P_survived_Pclass2=(df2.iloc[3])/(df2.iloc[1]+df2.iloc[3]+df2.iloc[5])#计算Pclass2生存的概率\n",
    "    P_unsurvived_Pclass2=(df2.iloc[2])/(df2.iloc[0]+df2.iloc[2]+df2.iloc[4])#计算Pclass2死亡的概率\n",
    "    P_survived_Pclass3=(df2.iloc[5])/(df2.iloc[1]+df2.iloc[3]+df2.iloc[5])#计算Pclass3生存的概率\n",
    "    P_unsurvived_Pclass3=(df2.iloc[4])/(df2.iloc[0]+df2.iloc[2]+df2.iloc[4])#计算Pclass3死亡的概率\n",
    "    parameters = {\"P_survived\": P_survived,\n",
    "                  \"P_unsurvived\": P_unsurvived,\n",
    "                  \"P_survived_male\": P_survived_male,\n",
    "                  \"P_survived_female\": P_survived_female,\n",
    "                  \"P_unsurvived_male\": P_unsurvived_male,\n",
    "                  \"P_unsurvived_female\": P_unsurvived_female,\n",
    "                  \"P_survived_Pclass1\": P_survived_Pclass1,\n",
    "                  \"P_unsurvived_Pclass1\": P_unsurvived_Pclass1,\n",
    "                  \"P_survived_Pclass2\": P_survived_Pclass2,\n",
    "                  \"P_unsurvived_Pclass2\": P_unsurvived_Pclass2,\n",
    "                  \"P_survived_Pclass3\": P_survived_Pclass3,\n",
    "                  \"P_unsurvived_Pclass3\": P_unsurvived_Pclass3,}\n",
    "    return parameters  "
   ]
  },
  {
   "cell_type": "code",
   "execution_count": 4,
   "id": "503ec444",
   "metadata": {},
   "outputs": [],
   "source": [
    "def NaiveBayes_Classifier(data_train,data_test,parameters):\n",
    "    data_train=np.array(data_train)\n",
    "    data_test=np.array(data_test)\n",
    "    P_likelihood_survived=np.array([parameters[\"P_survived_female\"],parameters[\"P_survived_male\"],parameters[\"P_survived_Pclass1\"],parameters[\"P_survived_Pclass2\"],parameters[\"P_survived_Pclass3\"]])\n",
    "    P_likelihood_unsurvived=np.array([parameters[\"P_unsurvived_female\"],parameters[\"P_unsurvived_male\"],parameters[\"P_unsurvived_Pclass1\"],parameters[\"P_unsurvived_Pclass2\"],parameters[\"P_unsurvived_Pclass3\"]])\n",
    "    #训练集分类\n",
    "    #计算生存下来的概率\n",
    "    a=np.multiply(data_train, P_likelihood_survived.T)\n",
    "    a=np.sort(a,axis = 1)\n",
    "    b=a.T[3:4]\n",
    "    c=a.T[4:]\n",
    "    d=np.multiply(b,c)\n",
    "    e=np.array(parameters[\"P_survived\"])\n",
    "    P_Trainforecast_survived=d*e\n",
    "    #计算未生存下来的概率\n",
    "    a=np.multiply(data_train, P_likelihood_unsurvived.T)\n",
    "    a=np.sort(a,axis = 1)\n",
    "    b=a.T[3:4]\n",
    "    c=a.T[4:]\n",
    "    d=np.multiply(b,c)\n",
    "    e=np.array(parameters[\"P_unsurvived\"])\n",
    "    P_Trainforecast_unsurvived=d*e\n",
    "    #两个概率相减，大于0的为生存，赋值为1，小于0的死亡，赋值为0\n",
    "    P_Trainforecast_Result=P_Trainforecast_survived-P_Trainforecast_unsurvived\n",
    "    P_Trainforecast_Result=np.int64(P_Trainforecast_Result>0)\n",
    "    P_Trainforecast_Result=P_Trainforecast_Result.T\n",
    "    #测试集分类\n",
    "    #计算生存下来的概率\n",
    "    a=np.multiply(data_test, P_likelihood_survived.T)\n",
    "    a=np.sort(a,axis = 1)\n",
    "    b=a.T[3:4]\n",
    "    c=a.T[4:]\n",
    "    d=np.multiply(b,c)\n",
    "    e=np.array(parameters[\"P_survived\"])\n",
    "    P_Testforecast_survived=d*e\n",
    "    #计算未生存下来的概率\n",
    "    a=np.multiply(data_test, P_likelihood_unsurvived.T)\n",
    "    a=np.sort(a,axis = 1)\n",
    "    b=a.T[3:4]\n",
    "    c=a.T[4:]\n",
    "    d=np.multiply(b,c)\n",
    "    e=np.array(parameters[\"P_unsurvived\"])\n",
    "    P_Testforecast_unsurvived=d*e\n",
    "    #两个概率相减，大于0的为生存，赋值为1，小于0的死亡，赋值为0\n",
    "    P_Testforecast_Result=P_Testforecast_survived-P_Testforecast_unsurvived\n",
    "    P_Testforecast_Result=np.int64(P_Testforecast_Result>0)\n",
    "    P_Testforecast_Result=P_Testforecast_Result.T\n",
    "    return P_Trainforecast_Result,P_Testforecast_Result\n",
    "\n",
    "    \n",
    "    "
   ]
  },
  {
   "cell_type": "code",
   "execution_count": 10,
   "id": "0420b537",
   "metadata": {},
   "outputs": [],
   "source": [
    "def Titanic_NaiveBayes_Model():\n",
    "    Original_data_test = pd.read_csv(r'test.csv') # 导入测验集数据\n",
    "    Original_data_train = pd.read_csv(r'train.csv') #根据数据位置自行修改\n",
    "    data_train,data_test=dateprocessing(Original_data_train,Original_data_test)\n",
    "    Original_data_train = pd.read_csv(r'train.csv') #根据数据位置自行修改 \n",
    "    parameters=NaiveBayes_ParameterCalculate(Original_data_train)\n",
    "    y_train = data_train['Survived'] # 将训练集Survived 数据存储在y中\n",
    "    del data_train['Survived'] # 删除训练集Survived数据\n",
    "    y_train=np.array(y_train)\n",
    "    l_train=len(y_train)\n",
    "    y_train=y_train.reshape(l_train,1)\n",
    "    Original_data_test = pd.read_csv(r'test.csv') # 导入测验集数据\n",
    "    Original_data_train = pd.read_csv(r'train.csv') #根据数据位置自行修改\n",
    "    P_Trainforecast_Result,P_Testforecast_Result=NaiveBayes_Classifier(data_train,data_test,parameters)\n",
    "    #计算训练组的正确率\n",
    "    y_train=np.abs(y_train-P_Trainforecast_Result)\n",
    "    error_number=np.sum(y_train,axis=0)\n",
    "    P_Trainforecast_accuracy=(l_train-error_number)/l_train\n",
    "    #计算训练组的正确率\n",
    "    Test_Result=pd.read_csv(r'gender_submission.csv')\n",
    "    y_test = Test_Result['Survived'] # 将训练集Survived 数据存储在y中\n",
    "    y_test=np.array(y_test)\n",
    "    l_test=len(y_test)\n",
    "    y_test=y_test.reshape(l_test,1)\n",
    "    y_test=np.abs(y_test-P_Testforecast_Result)\n",
    "    error_number=np.sum(y_test,axis=0)\n",
    "    P_Testforecast_accuracy=(l_test-error_number)/l_test\n",
    "    return P_Trainforecast_accuracy,P_Testforecast_accuracy,P_Testforecast_Result\n"
   ]
  },
  {
   "cell_type": "code",
   "execution_count": 11,
   "id": "2b7726f6",
   "metadata": {},
   "outputs": [
    {
     "name": "stdout",
     "output_type": "stream",
     "text": [
      "[0.78675645]\n",
      "[1.]\n"
     ]
    }
   ],
   "source": [
    "P_Trainforecast_accuracy,P_Testforecast_accuracy,P_Testforecast_Result=Titanic_NaiveBayes_Model()\n",
    "print(P_Trainforecast_accuracy)\n",
    "print(P_Testforecast_accuracy)"
   ]
  },
  {
   "cell_type": "code",
   "execution_count": 13,
   "id": "e1d6989a",
   "metadata": {},
   "outputs": [
    {
     "name": "stdout",
     "output_type": "stream",
     "text": [
      "[0 1 0 0 1 0 1 0 1 0 0 0 1 0 1 1 0 0 1 1 0 0 1 0 1 0 1 0 0 0 0 0 1 1 0 0 1\n",
      " 1 0 0 0 0 0 1 1 0 0 0 1 1 0 0 1 1 0 0 0 0 0 1 0 0 0 1 0 1 1 0 0 1 1 0 1 0\n",
      " 1 0 0 1 0 1 0 0 0 0 0 0 1 1 1 0 1 0 1 0 0 0 1 0 1 0 1 0 0 0 1 0 0 0 0 0 0\n",
      " 1 1 1 1 0 0 1 0 1 1 0 1 0 0 1 0 1 0 0 0 0 1 0 0 0 0 0 1 0 1 1 0 0 0 0 0 0\n",
      " 0 0 1 0 0 1 0 0 1 1 0 1 1 0 1 0 0 1 0 0 1 1 0 0 0 0 0 1 1 0 1 1 0 0 1 0 1\n",
      " 0 1 0 1 0 0 0 0 0 0 0 0 1 0 1 1 0 0 1 0 0 1 0 1 0 0 0 0 1 1 0 1 0 1 0 1 0\n",
      " 1 0 1 1 0 1 0 0 0 1 0 0 0 0 0 0 1 1 1 1 0 0 0 0 1 0 1 1 1 0 0 0 0 0 0 0 1\n",
      " 0 0 0 1 1 0 0 0 0 1 0 0 0 1 1 0 1 0 0 0 0 1 0 1 1 1 0 0 0 0 0 0 1 0 0 0 0\n",
      " 1 0 0 0 0 0 0 0 1 1 0 0 0 1 0 0 0 1 1 1 0 0 0 0 0 0 0 0 1 0 1 0 0 0 1 0 0\n",
      " 1 0 0 0 0 0 0 0 0 0 1 0 1 0 1 0 1 1 0 0 0 1 0 1 0 0 1 0 1 1 0 1 1 0 1 1 0\n",
      " 0 1 0 0 1 1 1 0 0 0 0 0 1 1 0 1 0 0 0 0 0 1 0 0 0 1 0 1 0 0 1 0 1 0 0 0 0\n",
      " 0 1 1 1 1 1 0 1 0 0 0]\n",
      "[[0 1 0 0 1 0 1 0 1 0 0 0 1 0 1 1 0 0 1 1 0 0 1 0 1 0 1 0 0 0 0 0 1 1 0 0\n",
      "  1 1 0 0 0 0 0 1 1 0 0 0 1 1 0 0 1 1 0 0 0 0 0 1 0 0 0 1 0 1 1 0 0 1 1 0\n",
      "  1 0 1 0 0 1 0 1 0 0 0 0 0 0 1 1 1 0 1 0 1 0 0 0 1 0 1 0 1 0 0 0 1 0 0 0\n",
      "  0 0 0 1 1 1 1 0 0 1 0 1 1 0 1 0 0 1 0 1 0 0 0 0 1 0 0 0 0 0 1 0 1 1 0 0\n",
      "  0 0 0 0 0 0 1 0 0 1 0 0 1 1 0 1 1 0 1 0 0 1 0 0 1 1 0 0 0 0 0 1 1 0 1 1\n",
      "  0 0 1 0 1 0 1 0 1 0 0 0 0 0 0 0 0 1 0 1 1 0 0 1 0 0 1 0 1 0 0 0 0 1 1 0\n",
      "  1 0 1 0 1 0 1 0 1 1 0 1 0 0 0 1 0 0 0 0 0 0 1 1 1 1 0 0 0 0 1 0 1 1 1 0\n",
      "  0 0 0 0 0 0 1 0 0 0 1 1 0 0 0 0 1 0 0 0 1 1 0 1 0 0 0 0 1 0 1 1 1 0 0 0\n",
      "  0 0 0 1 0 0 0 0 1 0 0 0 0 0 0 0 1 1 0 0 0 1 0 0 0 1 1 1 0 0 0 0 0 0 0 0\n",
      "  1 0 1 0 0 0 1 0 0 1 0 0 0 0 0 0 0 0 0 1 0 1 0 1 0 1 1 0 0 0 1 0 1 0 0 1\n",
      "  0 1 1 0 1 1 0 1 1 0 0 1 0 0 1 1 1 0 0 0 0 0 1 1 0 1 0 0 0 0 0 1 0 0 0 1\n",
      "  0 1 0 0 1 0 1 0 0 0 0 0 1 1 1 1 1 0 1 0 0 0]]\n"
     ]
    }
   ],
   "source": [
    "Test_Result=pd.read_csv(r'gender_submission.csv')\n",
    "y_test = Test_Result['Survived'] # 将训练集Survived 数据存储在y中\n",
    "y_test=np.array(y_test)\n",
    "print(y_test)#这个是原来的数据集\n",
    "print(P_Testforecast_Result.T)#这个是预测的数据集"
   ]
  },
  {
   "cell_type": "code",
   "execution_count": null,
   "id": "f5dc7fab",
   "metadata": {},
   "outputs": [],
   "source": []
  }
 ],
 "metadata": {
  "kernelspec": {
   "display_name": "Python 3",
   "language": "python",
   "name": "python3"
  },
  "language_info": {
   "codemirror_mode": {
    "name": "ipython",
    "version": 3
   },
   "file_extension": ".py",
   "mimetype": "text/x-python",
   "name": "python",
   "nbconvert_exporter": "python",
   "pygments_lexer": "ipython3",
   "version": "3.8.8"
  }
 },
 "nbformat": 4,
 "nbformat_minor": 5
}
